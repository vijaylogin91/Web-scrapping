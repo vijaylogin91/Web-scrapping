{
 "cells": [
  {
   "cell_type": "code",
   "execution_count": 2,
   "metadata": {},
   "outputs": [
    {
     "name": "stdout",
     "output_type": "stream",
     "text": [
      "('2021-02-12 23:02:01.338504', '1,824.90', '72.5800', '88.0377')\n",
      "('2021-02-12 23:02:18.706943', '1,824.70', '72.5800', '88.0377')\n",
      "('2021-02-12 23:02:49.267648', '1,824.80', '72.5800', '88.0377')\n",
      "('2021-02-12 23:03:07.953830', '1,825.00', '72.5800', '88.0286')\n",
      "('2021-02-12 23:03:33.420036', '1,824.80', '72.5800', '88.0286')\n",
      "('2021-02-12 23:03:56.975537', '1,824.70', '72.5800', '88.0286')\n",
      "('2021-02-12 23:04:46.054099', '1,824.80', '72.5800', '88.0286')\n",
      "('2021-02-12 23:05:08.728912', '1,824.60', '72.5800', '88.0286')\n",
      "('2021-02-12 23:05:31.085159', '1,824.60', '72.5800', '88.0286')\n",
      "('2021-02-12 23:05:50.282535', '1,824.70', '72.5800', '88.0286')\n",
      "('2021-02-12 23:06:17.214313', '1,824.30', '72.5800', '88.0286')\n",
      "('2021-02-12 23:06:49.615529', '1,825.10', '72.5800', '88.0286')\n",
      "('2021-02-12 23:07:09.571801', '1,825.20', '72.5800', '88.0286')\n",
      "('2021-02-12 23:07:35.946633', '1,824.60', '72.5800', '88.0286')\n",
      "('2021-02-12 23:07:51.156453', '1,824.70', '72.5800', '88.0286')\n"
     ]
    }
   ],
   "source": [
    "import sqlite3\n",
    "import datetime\n",
    "import schedule\n",
    "\n",
    "import time\n",
    "\n",
    "conn = sqlite3.connect(\"stock_price\")\n",
    "\n",
    "\n",
    "c=conn.cursor()\n",
    "\n",
    "#c.execute(\"CREATE TABLE Stock_4 (Date_Time,Gold,Dollar,Euro)\")\n",
    "\n",
    "def stock():\n",
    "    \n",
    "    \n",
    "    \n",
    "    \n",
    "\n",
    "    from bs4 import BeautifulSoup as soup\n",
    "\n",
    "    from urllib.request import urlopen as link\n",
    "\n",
    "    my_link = link('https://finance.yahoo.com/quote/GC%3DF?p=GC%3DF')\n",
    "    \n",
    "    my_link1 = link('https://in.finance.yahoo.com/quote/INR%3DX?p=INR%3DX')\n",
    "    \n",
    "    my_link2 = link('https://in.finance.yahoo.com/quote/EURINR%3DX?p=EURINR%3DX')\n",
    "\n",
    "    my_page = soup(my_link,'html.parser')\n",
    "    \n",
    "    my_page1 = soup(my_link1,'html.parser')\n",
    "    \n",
    "    my_page2 = soup(my_link2,'html.parser')\n",
    "\n",
    "    Gold = my_page.find('span',{\"class\",\"Trsdu(0.3s) Fw(b) Fz(36px) Mb(-4px) D(ib)\"}).text\n",
    "    \n",
    "    Dollar = my_page1.find('span',{'class',\"Trsdu(0.3s) Fw(b) Fz(36px) Mb(-4px) D(ib)\"}).text\n",
    "    \n",
    "    Euro = my_page2.find('span',{'class','Trsdu(0.3s) Fw(b) Fz(36px) Mb(-4px) D(ib)'}).text\n",
    "    \n",
    "    time_stamp = datetime.datetime.now()\n",
    "    Date_Time = time_stamp\n",
    "    \n",
    "    c.execute(\"INSERT INTO Stock_4 VALUES(?,?,?,?)\",(Date_Time,Gold,Dollar,Euro))\n",
    "        \n",
    "    conn.commit()\n",
    "\n",
    "    print('success')\n",
    "    return\n",
    "    \n",
    "schedule.every(10).seconds.do(stock)\n",
    "while True:\n",
    "        schedule.run_pending()\n",
    "        time.sleep(1)\n",
    "        \n",
    "c.execute(\"SELECT * FROM Stock_4\")\n",
    "\n",
    "out = c.fetchall()\n",
    "\n",
    "for i in out:\n",
    "    print(i)\n",
    "        \n"
   ]
  },
  {
   "cell_type": "code",
   "execution_count": null,
   "metadata": {},
   "outputs": [],
   "source": []
  }
 ],
 "metadata": {
  "kernelspec": {
   "display_name": "Python 3",
   "language": "python",
   "name": "python3"
  },
  "language_info": {
   "codemirror_mode": {
    "name": "ipython",
    "version": 3
   },
   "file_extension": ".py",
   "mimetype": "text/x-python",
   "name": "python",
   "nbconvert_exporter": "python",
   "pygments_lexer": "ipython3",
   "version": "3.8.3"
  }
 },
 "nbformat": 4,
 "nbformat_minor": 4
}
