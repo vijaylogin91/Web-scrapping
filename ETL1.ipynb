{
 "cells": [
  {
   "cell_type": "code",
   "execution_count": 33,
   "metadata": {},
   "outputs": [
    {
     "name": "stdout",
     "output_type": "stream",
     "text": [
      "Saved to csv\n"
     ]
    }
   ],
   "source": [
    "from bs4 import BeautifulSoup as soup\n",
    "\n",
    "from urllib.request import urlopen as link\n",
    "\n",
    "import pandas as pd\n",
    "\n",
    "url = 'https://www.ebay.com/b/Laptops-Netbooks/175672/bn_1648276'\n",
    "\n",
    "def get_data(url):\n",
    "   \n",
    "    my_link = link(url)\n",
    "\n",
    "    my_data = soup(my_link,'html.parser')\n",
    "    \n",
    "    return my_data\n",
    "\n",
    "def parse(my_data):\n",
    "    \n",
    "    productlist = []\n",
    "\n",
    "    container = my_data.find_all('div',{'class','b-info'})\n",
    "\n",
    "    for contain in container:\n",
    "    \n",
    "        product={\n",
    "    \n",
    "        'title' : contain.find('div').text,\n",
    "    \n",
    "        'offer_price' : contain.find('div',{'class','b-info__price clearfix'}).text,\n",
    "        \n",
    "         }\n",
    "        \n",
    "        productlist.append(product)\n",
    "        \n",
    "    return productlist\n",
    "\n",
    "def output(productlist):\n",
    "    \n",
    "    df = pd.DataFrame(productlist)\n",
    "    df.to_csv('output.csv', index=False)\n",
    "    print('Saved to csv')\n",
    "    \n",
    "    return\n",
    "    \n",
    "    \n",
    "my_data = get_data(url)\n",
    "\n",
    "productlist = parse(my_data)\n",
    "\n",
    "output(productlist)\n",
    "\n",
    "\n",
    "    \n",
    "    \n",
    "    \n",
    "    \n",
    "    \n",
    "    \n",
    "\n"
   ]
  },
  {
   "cell_type": "code",
   "execution_count": null,
   "metadata": {},
   "outputs": [],
   "source": []
  }
 ],
 "metadata": {
  "kernelspec": {
   "display_name": "Python 3",
   "language": "python",
   "name": "python3"
  },
  "language_info": {
   "codemirror_mode": {
    "name": "ipython",
    "version": 3
   },
   "file_extension": ".py",
   "mimetype": "text/x-python",
   "name": "python",
   "nbconvert_exporter": "python",
   "pygments_lexer": "ipython3",
   "version": "3.8.3"
  }
 },
 "nbformat": 4,
 "nbformat_minor": 4
}
